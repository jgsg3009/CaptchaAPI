{
 "cells": [
  {
   "cell_type": "code",
   "execution_count": 1,
   "metadata": {},
   "outputs": [
    {
     "name": "stdout",
     "output_type": "stream",
     "text": [
      "{\"message\": \"Internal Server Error\"}\n",
      "\n"
     ]
    }
   ],
   "source": [
    "from __future__ import print_function\n",
    "import requests\n",
    "import json\n",
    "import cv2\n",
    "import base64\n",
    "from time import time\n",
    "import requests\n",
    "\n",
    "base64Encoded = b\"iVBORw0KGgoAAAANSUhEUgAAAGQAAAAoCAIAAACHGsgUAAAPFUlEQVR42u2aCTTVaR/HH64rgzRSdMO8eSdmKsvRFO0jpCiRXVmqyQ1lHVRSjSwRKkqLkqxZKkRpmUZUkko17SVatdEm0Tben/9zPf53dc103vOe8/Y//3OP+m/P/dzv7/t8n+f5I/R169VmbGxsYmIyZcoUMzOzadOmWVhYTJ8+3dLScubMmdbW1jY2NnZ2dvb29o6Ojk5OTrNnz3ZxcXF1dXV3d583b94vv/yyYMECNpu9cOFCLy+vRYsWLV682NfX18/PLyAg4Ndffw0KCgoJCVmyZEloaOjy5ctXrFixcuXK3377bfXq1REREVFRUdHR0TExMWvXro2Pj09ISFi/fn1iYmJSUtKmTZuSk5O3bNmybdu27du379ixY+fOnWlpaenp6ZmZmVlZWTk5Obt3787LyysoKNizZ8++ffsKCwv3799fUlJy4MCBgwcPHjp06MiRI0ePHj127Ngff/xRUVFRWVl58uTJU6dOnT59+syZMzU1NefOnTt//vyFCxcuXbr0559/Xrly5erVq9evX7958+bt27fr6urq6+sbGhru3bvXDcvU1BRgTZ06FWABqRkzZowfb6GqGqOpGTBqlOO0aZYODg4Ay9nZec6cOUDKzc1t7ty5GJaHhwfA8vT0BFhAysfHB0j5+/sDLCAVHBwMpJYuXRocHGJnFzB+fLiOzuYffsgwN18eGRkJpNasWRMbGxsXFwew1q1bh2Ft3LgRSG3evHnr1q0YVmpqKsDatWsXhpWdnQ2wcnNz8/Pz91Db6tUb3d2Tp07NGju2yNBwv7f3FoAFpH7//XcgVV5eDrBOnDgBsKqqqjCss2fPAqna2loM6/Lly0Dq2rVrN27cuHXrFsC6c+cOwLp79+79+/e7YRFZmZubY1lpaXkh1EF2OblaLa2lpqa2GBbICmDNnz8fYBFZeXt702UVGBhIZBUcvGzMmEom8wO5oanpKiIrDAvLasOGDSArDAtkBbBSUlKIrABWRkYGkRWgW7hwnb5+Cb2peHd3Tzl8+DCR1fHjxzEsLKvq6mq6rC5evEiXFYZFl1U3LFyDWFakBlmsDfwtoPYnCB1H6KLAowCLyArXIJaViUmRjEwb98nVRFa4BomscA0SWW3blhoQUGZlVauj86jr2ucIVSJ0VkgLOfcvLj6Qk1O0f38paCs//0hhYSnI6uDBY/HxVW5ujUOGvANYRFYYFpYVvQZBVgDrwYMHHFi4BomsoAbBreTlT4hsCuxvEapBqBwhOLMaoTMIvcE1SGSFa9DBYVPfvq/5Lm+gywrDwrICXHFxWzw9D5qZXRw6tFFSEq5tROgG9SBgdLOnhnHu7+5eY2n50NCwadiwpsmTn2lrv+nfv47JbKGOvkSoCdcglhWuQSIrXINEVg8fPuTAEmjtY8ZYIVRFiQia2CBG4z7CJ7+1L14coKz8RODJAq0dNje3o3Jy7Qg9xfqVkfkgIdHj0z8jVEu1tpL65eBX/NRja8W0dpAVFyy6tQMpKyurWbNmcd8dzq4QVn3Ufhs+eazd3z9QV/ecsJMFWntYWIqS0hugw2R+kpV9Ly39USSp18LrsaF//3bRrRXT2oHUo0ePOLB4rB0nBoBla2tLTwzY2h0cnAwN2SxWLt/jT2trn6LXIMhr8uR8IW09DZ8CrX3NmgRLy5QZMyqcnU/Y21f/9FO9hMRffJc/MzbetXz5epIYiouLITSQxADWnpe3Z8mSLISgy39PMT3D3wAxrR1gNTY2cmDxWDuWFY5XJDHgeEUSA/SDM2Z4Kyk9oHWXZT4+AcTaYbOyWicj04oQfNV6qqLpbQWn6xBt7fBnfHyquTm/ljvNlMQrIFVUVETiVVlZGYlX0Amqqb0zN3+yatVVd/dM/gaIae0gq8ePH3Ng8Vg7kRWGRZcVhgWkbGx8tLQqJSU5vsBgfLK2DqXLyt19lYoK6byaBwzYx93WSgyLx9rp8QoSw4oV27W1H/LB6rwWx6u9e/cSWZWWlgIsLCsSr0himDmzgP8mYlo7L6xepXZb2wVaWjlSUt2OMGFCNt3a/fyWaGjcoDQFR99/912DhsZe7raCGXf0mNrnzctVVubvRjuv7W1qHzWqnP8mYlo71CAXLB5rJ7LiT+2zZ3tpaR2Rln5HHqyhcYIer8DZ9fROSUh8xke//bY5KGiNouIF7rZCxuvoMbUbG1f06fOBD1bntVhWUIybNmWlp5eAtrKzC0BcwlK7qupN/puIae1A6smTJxxYYlo7yMrJyVVTs0JK6j15qqxsHZsdRE/tZmZ5kpIcUtLSrZ6eSTAYZDDa+XvuHlM7i/VcUFcI1zZJSp5iMG5KSX1WUmpTVGxXU3vr4FAXFpZZWFgmMLXT20waIKa1A6ynT59yYIlp7Y6ObF3dUgbjI+2RHywtk4msYLO3XyYr29LVmlYnp10wcoa8xdOX4T9EpHaAFR2dxWB8pmC1Uzu+FnqMW8ICwTfffDI2vl9cfJjICtcg+L7ABohp7SCrZ8+ecWD1aO0Ay87OWU+viMnEQxYwIyjDt0OH1pCRMwwS7ewWDRhArOGFicmBsLAwgOXpGcDd1ht0WAKtPSkpee7czl4PtENFYjFTe+c+ZEjDvn0niKwAVkZGgcAGiGntICsuWKKt3dbWdfToHXJyzV2k4PMRk9k6b95SGEXDtSNHjpSUZFA3k4axJkIuLJYvQIejMDB0dfXnbisnpoqw9tjYJFPTq1Qhf6RgcSXbvn3btbWf6es/UVFpGjCgjS+IvVBWflRcXEUmZDZsyBTYADGtHUg9f/6cA0u0tTs4uI4dmyovD2d3dNk2FELh4MEzlZWVJSQkepwvk5GRQ2g8Qm4IrUYoG6FihI5ALHR0XCHM2pctSxg2DHJgR58+H6nBw0Vd3b0WFilsdlZs7LHk5AOxsflJSTvT0/NCQ2GMXS8tzTO4qdfTe0UmZMLD07mPnsR/iGntAKupqYnzZURYOxCbNCm4f/8yCYkrCJUgFIjQTwgxvsScYz95eXV9fX0YP8BPAp0DjH5AWdjavbwSVFReUz8PqOaFpORfOTm50PdBvILQQE/tEEijovaOG8cz/KyhhlNX8YRMUBAPrAoCSxxrB1jNzc3dsIRZu5nZAhYLIpKCsG8MypKTU2cyfRAqpWZOziN0AKEkqESExiD0b6owxd2YTObgwYN1dXU1NSczGBslJA4jVAfmqK7+Mjc3V1hqz84utre/w4/DyKgJz/N5eQmI77CLae1Qg92whFm7tfWcH39MYTLP830pSShAEAVQnjgxsF+/Zlo76qhBfzP3fMBdhI4hlIIQdIu2COkhJN8bDUrJyPwLCMKwDOILmCBULlAjqR3SqJNTGn9Al5f/BLCqq6vnzs0RCEtMa4ca5IXFY+0gLAODdQoKYBxRXY0GfS0GBf388xYy166vHy5+P0WzDBjWHkQoDyEokJWjR4/W0NCQl+8FQVC0kpKSjo4OVDFEZQODZMq2X5GZP6on/QtPHzs753E34DiBJY61A6kXL15wHizQ2i0s2Orq56nRn1ZXCzdTA+YXnp7eJDHo6UX3hOYaQpcFWgbZibVDtwgJdurUhYqKYQjNl5KaiNAgINMbGSohZAidFvwGTOYuuCcMre3sCgQ2QExrB1gvX77k3F6gtY8cGSIrC9o7RfyYmq7sMDAooc+16+rGCmSkqnrYxCTMzy8oIiLCwCCRv0ZgFzbX7uy8Y+DAFipkfqAe2rZyZXJISAgoCEZmUP6DBg1iMHrRyUhJyVC1b0P5wDaENlDO8FlMawdZvXr1inMvfmufNWuOhkYxJSuPrifa4SGCi8tyXIM4tc+axdbWThg6dIem5k4dncSJE8Ps7X1geLhq1Sqy3iUCFj21k/Uuc/MiClMHFd/fMJmf+a0dPlNTU6OiothsTw0NCCVWCI1A6JveaFAaat/IyAh8EOSclpYGoR+o8Vs7yIoLFo+1m5h4KyvfomI66Qc7pw1YrDosK4Fz7cuWLQsNDcWpHUiFh4cDqcjIyDFj1gusAp7Ujte7EhN3Tpx4CxIDxAUquH8YPvypsAkZ+Fy06KiiIhn3/UXNdsHgZinEOjW1saqqGnJycuLzk5SUVFNTu3DhAt3agdTr1685Z/Cn9nHj/BQUHlMBEm9gW024Bv/GMuq4cXEC/RWn9tjYeLqsIiNTR426h2M6jktGRg1kQobFajE1vRccXJuQUJWZWebpeV1FpY022L6H20kegfd+/a5TXUo2lYrdEdKmrFAoLyhGurUDrDdv3nAO86f2kSP9qUmYKV13CMc1OH16sohlVCIrXINYVtHR0UZGawTCwrJycUkcNKhZT69g/vxokFhIyLYRIzrNUUEBYEES7vDwOJ+cnBIRsTUuLgMCKtWSFjzHQttBU4+gZvE/R4woEdnnVHStTl2iKmYtQmwYpamrqwMp+OSxdoDV0tLSDYtnQsbKyn7CBGvCGiFOb8Jm+wtbRsU1SGSFaxAvo5qZraYmtq5T3UU5GRVja1+wIJLJpM9k3BX0d1VPfe7Lrsm11oSEq/n5hTDEobIoXPhY0PnPqWn4cirH1OP/BGsHjyc1SGQFNdgNS+CEDHSRqqqqFCkz8gy6tfMso5IapFs7Xkb19V0aFBQaHx8vLDGAYfn6RklJVVC/dgc3rArqW1UKYdTCYFyXlW00NGx2dHyQlHSJvjpfU1NDW8spFz51wVG6MGuHGuSFJXCuHf4TjrLZbLI63ytrF7aMKtDa8ep8YGDMpEm7+vZt5PlKCgrvhw9v+v77VyxW68CBDywsdsfEbOefa8ew8Oo8eZWBzLWXlh7x9c0fMaKWfmcbm8PCUjuR1du3bzmw/jffkImJSfTwWG9hsWPs2PzRo4utrQuio/MiI9O2b8/452/InDlzNjm50Ne30MbmUGBgkbDUTmTV2trKgfXP35ARZu1f5A0ZnBhwvMKJAa93fcE3ZISldmztIKt3795xYPHPtffqDRkR1v5P3pDBEzIillG/4BsywlI7rkGQFRcs/mVUUoNYVn/P2nt8Q4bUIJEVhiViQoZnGZU+10639l69ISPa2oFUW1sbB5ZAayc1+F+zdpAVrkG6rMRfRhVt7eLPtfNbO8Bqb2/ngvX/+fKjONYOsN6/f8+B9dXaRVs71GA3rK/WLtraoQa7YX3dxNz+A8fJS1ofHChYAAAAAElFTkSuQmCC\"\n",
    "test_url = 'http://172.16.10.21:5000/predict?site=MinWon24'\n",
    "\n",
    "response = requests.post(test_url, data = base64Encoded)\n",
    "print(response.text)"
   ]
  },
  {
   "cell_type": "code",
   "execution_count": null,
   "metadata": {},
   "outputs": [],
   "source": []
  }
 ],
 "metadata": {
  "kernelspec": {
   "display_name": "Python 3",
   "language": "python",
   "name": "python3"
  },
  "language_info": {
   "codemirror_mode": {
    "name": "ipython",
    "version": 3
   },
   "file_extension": ".py",
   "mimetype": "text/x-python",
   "name": "python",
   "nbconvert_exporter": "python",
   "pygments_lexer": "ipython3",
   "version": "3.7.4"
  }
 },
 "nbformat": 4,
 "nbformat_minor": 2
}
