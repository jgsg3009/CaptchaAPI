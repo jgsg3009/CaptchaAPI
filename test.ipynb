{
 "cells": [
  {
   "cell_type": "code",
   "execution_count": 6,
   "metadata": {},
   "outputs": [
    {
     "name": "stdout",
     "output_type": "stream",
     "text": [
      "{'answer': '672220'}\n",
      "2.5870790481567383\n"
     ]
    }
   ],
   "source": [
    "from __future__ import print_function\n",
    "import requests\n",
    "import json\n",
    "import cv2\n",
    "from time import time\n",
    "\n",
    "start = time()\n",
    "\n",
    "addr = 'http://localhost:5000'\n",
    "test_url = addr + '/predict'\n",
    "\n",
    "# prepare headers for http request\n",
    "content_type = 'image/png'\n",
    "headers = {'content-type': content_type}\n",
    "\n",
    "img = cv2.imread('672220.png',cv2.IMREAD_UNCHANGED)\n",
    "# encode image as jpeg\n",
    "\n",
    "_, img_encoded = cv2.imencode('.png', img)\n",
    "\n",
    "# send http request with image and receive response\n",
    "response = requests.post(test_url, data=img_encoded.tostring(), headers=headers)\n",
    "# decode response\n",
    "print(json.loads(response.text))\n",
    "\n",
    "print(time()-start)\n",
    "\n",
    "# expected output: {'answer': '672220'}"
   ]
  },
  {
   "cell_type": "code",
   "execution_count": null,
   "metadata": {
    "collapsed": true
   },
   "outputs": [],
   "source": []
  }
 ],
 "metadata": {
  "kernelspec": {
   "display_name": "Python 3",
   "language": "python",
   "name": "python3"
  },
  "language_info": {
   "codemirror_mode": {
    "name": "ipython",
    "version": 3
   },
   "file_extension": ".py",
   "mimetype": "text/x-python",
   "name": "python",
   "nbconvert_exporter": "python",
   "pygments_lexer": "ipython3",
   "version": "3.6.2"
  }
 },
 "nbformat": 4,
 "nbformat_minor": 2
}
