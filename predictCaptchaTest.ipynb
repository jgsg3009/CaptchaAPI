{
 "cells": [
  {
   "cell_type": "code",
   "execution_count": null,
   "metadata": {},
   "outputs": [],
   "source": [
    "from flask import Flask\n",
    "from flask_restful import Resource, Api, request\n",
    "from flask_restful import reqparse\n",
    "import numpy as np\n",
    "from PIL import Image\n",
    "import base64\n",
    "import cv2\n",
    "import sys\n",
    "\n",
    "# 사이트 늘어날 때 마다 추가\n",
    "sys.path.insert(0, './BeobWon')\n",
    "sys.path.insert(0, './MinWon24')\n",
    "from BeobWon.predictCaptcha import PredictCaptcha as BeobWonPredictCaptcha\n",
    "from MinWon24.predictCaptcha import PredictCaptcha as MinWon24PredictCaptcha\n",
    "\n",
    "\n",
    "app = Flask('predict Captcha')\n",
    "api = Api(app)\n",
    "class CaptchaPredict(Resource) :\n",
    "    \n",
    "        def __init__(self, gpu_on = True) : \n",
    "\n",
    "            if site == \"법원\":\n",
    "                self.predictor = BeobWonPredictCaptcha()\n",
    "            elif site == \"민원24\":\n",
    "                self.predictor = MinWon24PredictCaptcha()            \n",
    "            else : \n",
    "                raise NameError(\"Select Available Site\")\n",
    "            \n",
    "            self.r = request\n",
    "            if not gpu_on :\n",
    "                os.environ['CUDA_VISIBLE_DEVICES'] = '-1'\n",
    "        def post(self) :\n",
    "            try :\n",
    "                # convert string of image data to uint8\n",
    "                img_array = np.frombuffer(base64.b64decode(self.r.data), np.uint8)     \n",
    "                # decode image\n",
    "                img_array = cv2.imdecode(img_array, cv2.IMREAD_UNCHANGED)\n",
    "                # predict\n",
    "                answer = self.predictor.predict(img_array)      \n",
    "                return {'answer' : answer}\n",
    "            except Exception as e :\n",
    "                return {'error' : str(e)}\n",
    "            \n",
    "api.add_resource(CaptchaPredict, '/predict') \n",
    "\n",
    "\n",
    "if __name__=='__main__' :\n",
    "    app.run(debug = False, port = 5000)\n",
    "\n"
   ]
  }
 ],
 "metadata": {
  "kernelspec": {
   "display_name": "Python 3",
   "language": "python",
   "name": "python3"
  },
  "language_info": {
   "codemirror_mode": {
    "name": "ipython",
    "version": 3
   },
   "file_extension": ".py",
   "mimetype": "text/x-python",
   "name": "python",
   "nbconvert_exporter": "python",
   "pygments_lexer": "ipython3",
   "version": "3.6.10"
  }
 },
 "nbformat": 4,
 "nbformat_minor": 4
}
