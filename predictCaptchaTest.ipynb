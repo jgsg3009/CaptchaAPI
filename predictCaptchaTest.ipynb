{
 "cells": [
  {
   "cell_type": "code",
   "execution_count": 1,
   "metadata": {},
   "outputs": [
    {
     "name": "stdout",
     "output_type": "stream",
     "text": [
      " * Serving Flask app \"innoCaptcha\" (lazy loading)\n",
      " * Environment: production\n",
      "   WARNING: This is a development server. Do not use it in a production deployment.\n",
      "   Use a production WSGI server instead.\n",
      " * Debug mode: off\n"
     ]
    },
    {
     "name": "stderr",
     "output_type": "stream",
     "text": [
      " * Running on http://0.0.0.0:5000/ (Press CTRL+C to quit)\n"
     ]
    },
    {
     "name": "stdout",
     "output_type": "stream",
     "text": [
      "WARNING:tensorflow:From C:\\Users\\gr300\\AppData\\Local\\Continuum\\anaconda3\\lib\\site-packages\\tensorflow_core\\python\\ops\\resource_variable_ops.py:1630: calling BaseResourceVariable.__init__ (from tensorflow.python.ops.resource_variable_ops) with constraint is deprecated and will be removed in a future version.\n",
      "Instructions for updating:\n",
      "If using Keras pass *_constraint arguments to layers.\n",
      "(40, 120, 3)\n",
      "BeobWon\n"
     ]
    },
    {
     "name": "stderr",
     "output_type": "stream",
     "text": [
      "127.0.0.1 - - [23/Jun/2020 10:03:02] \"\u001b[37mPOST /predict?site=BeobWon HTTP/1.1\u001b[0m\" 200 -\n"
     ]
    },
    {
     "name": "stdout",
     "output_type": "stream",
     "text": [
      "(40, 100, 3)\n",
      "MinWon24\n"
     ]
    },
    {
     "name": "stderr",
     "output_type": "stream",
     "text": [
      "127.0.0.1 - - [23/Jun/2020 10:03:27] \"\u001b[37mPOST /predict?site=MinWon24 HTTP/1.1\u001b[0m\" 200 -\n"
     ]
    }
   ],
   "source": [
    "from flask import Flask\n",
    "from flask_restful import Resource, Api, request\n",
    "from flask_restful import reqparse\n",
    "import numpy as np\n",
    "from PIL import Image\n",
    "import base64\n",
    "import cv2\n",
    "import sys\n",
    "\n",
    "import tensorflow as tf\n",
    "\n",
    "from BeobWon.predictCaptcha import PredictCaptcha as BeobWonPredictCaptcha\n",
    "from MinWon24.predictCaptcha import PredictCaptcha as MinWon24PredictCaptcha\n",
    "\n",
    "\n",
    "app = Flask('innoCaptcha')\n",
    "api = Api(app)\n",
    "class CaptchaPredict(Resource) :\n",
    "    \n",
    "        def __init__(self, gpu_on = True) : \n",
    "            if not gpu_on :\n",
    "                os.environ['CUDA_VISIBLE_DEVICES'] = '-1'\n",
    "                     \n",
    "            else :\n",
    "                gpu_devices = tf.config.experimental.list_physical_devices('GPU')\n",
    "                for device in gpu_devices:\n",
    "                    tf.config.experimental.set_memory_growth(device, True)\n",
    "            \n",
    "            self.r = request\n",
    "            self.predictors = {}\n",
    "            self.predictors['BeobWon'] = BeobWonPredictCaptcha()\n",
    "            self.predictors['MinWon24'] = MinWon24PredictCaptcha()\n",
    "        def post(self) :\n",
    "            try :\n",
    "                # convert string of image data to uint8\n",
    "                img_array = np.frombuffer(base64.b64decode(self.r.data), np.uint8)     \n",
    "                # decode image\n",
    "                img_array = cv2.imdecode(img_array, cv2.IMREAD_UNCHANGED)\n",
    "                print(img_array.shape)\n",
    "                # predict\n",
    "                site = self.r.args.get('site')\n",
    "                print(site)\n",
    "                answer = self.predictors[site].predict(img_array)      \n",
    "                return {'answer' : answer}\n",
    "            except Exception as e :\n",
    "                print(str(e))\n",
    "                return {'error' : str(e)}\n",
    "            \n",
    "api.add_resource(CaptchaPredict, '/predict') \n",
    "\n",
    "\n",
    "if __name__=='__main__' :\n",
    "    app.run(host='0.0.0.0',debug = False, port = 5000)"
   ]
  },
  {
   "cell_type": "code",
   "execution_count": null,
   "metadata": {},
   "outputs": [],
   "source": []
  }
 ],
 "metadata": {
  "kernelspec": {
   "display_name": "Python 3",
   "language": "python",
   "name": "python3"
  },
  "language_info": {
   "codemirror_mode": {
    "name": "ipython",
    "version": 3
   },
   "file_extension": ".py",
   "mimetype": "text/x-python",
   "name": "python",
   "nbconvert_exporter": "python",
   "pygments_lexer": "ipython3",
   "version": "3.7.4"
  }
 },
 "nbformat": 4,
 "nbformat_minor": 4
}
