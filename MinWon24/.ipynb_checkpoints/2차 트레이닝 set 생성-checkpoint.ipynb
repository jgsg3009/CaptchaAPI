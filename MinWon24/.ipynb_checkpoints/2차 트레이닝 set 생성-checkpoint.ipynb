{
 "cells": [
  {
   "cell_type": "code",
   "execution_count": 1,
   "metadata": {},
   "outputs": [],
   "source": [
    "from __future__ import print_function, division\n",
    "import scipy\n",
    "import numpy as np\n",
    "import cv2\n",
    "import tensorflow as tf\n",
    "\n",
    "from tensorflow.keras import backend as K\n",
    "from tensorflow.keras.datasets import mnist\n",
    "from tensorflow.keras.layers import Input, Dense, Reshape, Flatten, Dropout, Concatenate\n",
    "from tensorflow.keras.layers import BatchNormalization, Activation, ZeroPadding2D\n",
    "from tensorflow.keras.layers import LeakyReLU , ReLU\n",
    "from tensorflow.keras.layers import UpSampling2D, Conv2D, Conv2DTranspose\n",
    "from tensorflow.keras.layers import Add\n",
    "from tensorflow.keras.layers import Lambda\n",
    "from tensorflow.keras.models import Sequential, Model\n",
    "from tensorflow.keras.optimizers import Adam\n",
    "\n",
    "from generator import build_generator\n",
    "\n",
    "import os\n",
    "import shutil\n",
    "\n",
    "gpu_on = False\n",
    "\n",
    "if not gpu_on :\n",
    "    os.environ['CUDA_VISIBLE_DEVICES'] = '-1'"
   ]
  },
  {
   "cell_type": "code",
   "execution_count": 2,
   "metadata": {
    "scrolled": true
   },
   "outputs": [],
   "source": [
    "generator = build_generator(g_power = 120, img_shape = (40,120,4))"
   ]
  },
  {
   "cell_type": "code",
   "execution_count": 3,
   "metadata": {},
   "outputs": [
    {
     "name": "stdout",
     "output_type": "stream",
     "text": [
      "1000\n",
      "4\n",
      "(1000, 40, 120, 4)\n",
      "(500, 40, 120, 4)\n"
     ]
    }
   ],
   "source": [
    "from glob import glob\n",
    "\n",
    "targetPath = glob('../datasets/training_Captcha/*')\n",
    "valPath = glob('./court/*')\n",
    "\n",
    "\n",
    "weightPath = glob('./generator_weights/*')\n",
    "print(len(targetPath))\n",
    "print(len(weightPath))\n",
    "\n",
    "dataset = []\n",
    "val_dataset = []\n",
    "for path in targetPath :\n",
    "    img_array = cv2.imread(path,cv2.IMREAD_UNCHANGED)[:,120:,:]\n",
    "    img_array = img_array /127.5 - 1.\n",
    "    dataset.append(img_array)\n",
    "for path in valPath :\n",
    "    img_array = cv2.imread(path,cv2.IMREAD_UNCHANGED)\n",
    "    img_array = img_array /127.5 - 1.\n",
    "    val_dataset.append(img_array)  \n",
    "\n",
    "dataset = np.array(dataset)\n",
    "val_dataset = np.array(val_dataset)\n",
    "print(dataset.shape)\n",
    "print(val_dataset.shape)"
   ]
  },
  {
   "cell_type": "code",
   "execution_count": 4,
   "metadata": {},
   "outputs": [
    {
     "data": {
      "text/plain": [
       "'./convertDataset/Original'"
      ]
     },
     "execution_count": 4,
     "metadata": {},
     "output_type": "execute_result"
    }
   ],
   "source": [
    "currentFiles = glob( './convertDataset/*')\n",
    "val_currentFiles = glob( './convertCourt/*')\n",
    "for files in currentFiles :\n",
    "    shutil.rmtree(files)\n",
    "for files in val_currentFiles :\n",
    "    shutil.rmtree(files)    \n",
    "for path in weightPath :\n",
    "    os.mkdir('./convertDataset/'+path[30:37])\n",
    "    os.mkdir('./convertCourt/'+path[30:37])\n",
    "shutil.copytree('./target_Captcha', './convertDataset/Original')"
   ]
  },
  {
   "cell_type": "code",
   "execution_count": 5,
   "metadata": {},
   "outputs": [
    {
     "name": "stdout",
     "output_type": "stream",
     "text": [
      "0\n",
      "1\n",
      "2\n",
      "3\n",
      "678.077\n"
     ]
    }
   ],
   "source": [
    "from time import time\n",
    "from PIL import Image\n",
    "\n",
    "starttime = time()\n",
    "\n",
    "for weightIndex in range(len(weightPath)) :\n",
    "    print(weightIndex)\n",
    "    generator.load_weights(weightPath[weightIndex])\n",
    "    predict = generator.predict(dataset)\n",
    "    predict = np.round((predict+1)*127.5).astype('uint8')\n",
    "    for index in range(1000) :\n",
    "        img = Image.fromarray(predict[index], 'RGBA')\n",
    "        img.save('./convertDataset/'+weightPath[weightIndex][30:37]+'/'+str(targetPath[index][29:-4])+'.png')\n",
    "    val_predict = generator.predict(val_dataset)\n",
    "    val_predict = np.round((val_predict+1)*127.5).astype('uint8')\n",
    "    for index in range(500) :\n",
    "        img = Image.fromarray(val_predict[index], 'RGBA')\n",
    "        img.save('./convertCourt/'+weightPath[weightIndex][30:37]+'/'+str(valPath[index][-10:-4])+'.png')\n",
    "        \n",
    "print(round(time() - starttime,3))"
   ]
  },
  {
   "cell_type": "code",
   "execution_count": 6,
   "metadata": {},
   "outputs": [
    {
     "name": "stdout",
     "output_type": "stream",
     "text": [
      "0\n",
      "1\n",
      "2\n",
      "3\n",
      "23.657\n"
     ]
    }
   ],
   "source": [
    "from time import time\n",
    "from PIL import Image\n",
    "\n",
    "starttime = time()\n",
    "\n",
    "for weightIndex in range(len(weightPath)) :\n",
    "    print(weightIndex)\n",
    "    generator.load_weights(weightPath[weightIndex])\n",
    "    predict = generator.predict(dataset)\n",
    "    predict = np.round((predict+1)*127.5).astype('uint8')\n",
    "    for index in range(1000) :\n",
    "        img = Image.fromarray(predict[index], 'RGBA')\n",
    "        img.save('./convertDataset/'+weightPath[weightIndex][30:37]+'/'+str(targetPath[index][29:-4])+'.png')\n",
    "        \n",
    "print(round(time() - starttime,3))"
   ]
  },
  {
   "cell_type": "code",
   "execution_count": 13,
   "metadata": {},
   "outputs": [
    {
     "name": "stdout",
     "output_type": "stream",
     "text": [
      "0.245\n"
     ]
    }
   ],
   "source": [
    "starttime = time()\n",
    "\n",
    "generator.load_weights(weightPath[-1])\n",
    "temp = generator.predict(img_array.reshape((1,40,120,4)))\n",
    "temp = (temp + 1) * 127.5\n",
    "temp = temp.astype('uint8')\n",
    "from PIL import Image\n",
    "\n",
    "Image.fromarray(temp[0],'RGBA')\n",
    "\n",
    "print(round(time() - starttime,3))"
   ]
  },
  {
   "cell_type": "code",
   "execution_count": 5,
   "metadata": {},
   "outputs": [],
   "source": []
  }
 ],
 "metadata": {
  "kernelspec": {
   "display_name": "Python 3",
   "language": "python",
   "name": "python3"
  },
  "language_info": {
   "codemirror_mode": {
    "name": "ipython",
    "version": 3
   },
   "file_extension": ".py",
   "mimetype": "text/x-python",
   "name": "python",
   "nbconvert_exporter": "python",
   "pygments_lexer": "ipython3",
   "version": "3.7.3"
  }
 },
 "nbformat": 4,
 "nbformat_minor": 4
}
